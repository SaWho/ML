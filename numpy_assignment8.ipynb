{
 "cells": [
  {
   "cell_type": "code",
   "execution_count": 1,
   "id": "91e11a4a-2559-42b3-98a5-7b1e8832e7e3",
   "metadata": {},
   "outputs": [
    {
     "name": "stdout",
     "output_type": "stream",
     "text": [
      "[32 14 35 48 15 19]\n",
      "[19 15 48 35 14 32]\n"
     ]
    }
   ],
   "source": [
    "import numpy as np\n",
    "vector= np.random.randint(10,50,6)\n",
    "vector1= np.flipud(vector)\n",
    "print(vector)\n",
    "print(vector1)"
   ]
  },
  {
   "cell_type": "code",
   "execution_count": null,
   "id": "2126025c-cae2-409a-9947-87c90b86c810",
   "metadata": {},
   "outputs": [],
   "source": [
    "import numpy as np\n",
    "vector= np.random.randint(10,50,6)\n",
    "print(vector)"
   ]
  }
 ],
 "metadata": {
  "kernelspec": {
   "display_name": "Python 3",
   "language": "python",
   "name": "python3"
  },
  "language_info": {
   "codemirror_mode": {
    "name": "ipython",
    "version": 3
   },
   "file_extension": ".py",
   "mimetype": "text/x-python",
   "name": "python",
   "nbconvert_exporter": "python",
   "pygments_lexer": "ipython3",
   "version": "3.7.8"
  }
 },
 "nbformat": 4,
 "nbformat_minor": 5
}
