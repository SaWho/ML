{
 "cells": [
  {
   "cell_type": "code",
   "execution_count": 4,
   "id": "a5cced5c-5bea-4821-9bdf-fbf7eb252014",
   "metadata": {},
   "outputs": [
    {
     "name": "stdout",
     "output_type": "stream",
     "text": [
      "[0.571807   0.17760131 0.62497907 0.53597203 0.71518947 0.52897942\n",
      " 0.5626598  0.67970266 0.29844101 0.89743411 0.02894564 0.55980878\n",
      " 0.26235752 0.63268207 0.77085038 0.73449673 0.69184981 0.02936301\n",
      " 0.25746806 0.66883637 0.29121169 0.92248245 0.69821418 0.32889638\n",
      " 0.24460769 0.65043079 0.38455445 0.8921161  0.93328362 0.63936366]\n",
      "0.5404861755042457\n"
     ]
    }
   ],
   "source": [
    "import numpy as np\n",
    "v = np.random.random(30)\n",
    "m = v.mean()\n",
    "print (v)\n",
    "print (m)\n"
   ]
  },
  {
   "cell_type": "code",
   "execution_count": null,
   "id": "bae8a376-0f8b-4ab2-83ea-77fe48d45d3b",
   "metadata": {},
   "outputs": [],
   "source": []
  }
 ],
 "metadata": {
  "kernelspec": {
   "display_name": "Python 3",
   "language": "python",
   "name": "python3"
  },
  "language_info": {
   "codemirror_mode": {
    "name": "ipython",
    "version": 3
   },
   "file_extension": ".py",
   "mimetype": "text/x-python",
   "name": "python",
   "nbconvert_exporter": "python",
   "pygments_lexer": "ipython3",
   "version": "3.7.8"
  }
 },
 "nbformat": 4,
 "nbformat_minor": 5
}
