{
 "cells": [
  {
   "cell_type": "code",
   "execution_count": null,
   "id": "11cb508e-36bf-41a6-b3ac-e14b5a47449e",
   "metadata": {},
   "outputs": [],
   "source": [
    "import numpy as np\n",
    "vector= np.random.randint(1,101,100).reshap"
   ]
  },
  {
   "cell_type": "code",
   "execution_count": 1,
   "id": "cd7dbfc4-350e-47e9-b2d6-43775909149f",
   "metadata": {},
   "outputs": [
    {
     "name": "stdout",
     "output_type": "stream",
     "text": [
      "[[[ 4  2 41]\n",
      "  [27 54 25]\n",
      "  [11 55 31]]\n",
      "\n",
      " [[83 77 76]\n",
      "  [29 57 73]\n",
      "  [ 0 46 78]]\n",
      "\n",
      " [[41 83 87]\n",
      "  [70 62 27]\n",
      "  [71 62 75]]]\n"
     ]
    }
   ],
   "source": [
    "import numpy as np\n",
    "vector= np.random.randint(0,90,27).reshape(3,3,3)\n",
    "print(vector)"
   ]
  },
  {
   "cell_type": "code",
   "execution_count": null,
   "id": "87845ddb-c01f-4f58-9e17-569b569c83ea",
   "metadata": {},
   "outputs": [],
   "source": []
  }
 ],
 "metadata": {
  "kernelspec": {
   "display_name": "Python 3",
   "language": "python",
   "name": "python3"
  },
  "language_info": {
   "codemirror_mode": {
    "name": "ipython",
    "version": 3
   },
   "file_extension": ".py",
   "mimetype": "text/x-python",
   "name": "python",
   "nbconvert_exporter": "python",
   "pygments_lexer": "ipython3",
   "version": "3.7.8"
  }
 },
 "nbformat": 4,
 "nbformat_minor": 5
}
