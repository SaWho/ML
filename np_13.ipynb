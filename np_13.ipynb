{
 "cells": [
  {
   "cell_type": "code",
   "execution_count": 1,
   "id": "11cb508e-36bf-41a6-b3ac-e14b5a47449e",
   "metadata": {},
   "outputs": [
    {
     "name": "stdout",
     "output_type": "stream",
     "text": [
      "[[ 33   1  17  57  51  78  26  61  61  20]\n",
      " [ 60  72  49  20  55  78  64   4  38  58]\n",
      " [ 13  25  39   8  19  42  52  70  63  81]\n",
      " [  9  25  75  95  37  13   1  35   6  73]\n",
      " [ 33  30  61  18  67  32  30  64  44   7]\n",
      " [100  40 100  94  96  89  23  78  11  13]\n",
      " [ 98  24  86  85  35  87  64  24  14  10]\n",
      " [ 36  80  91  47  93   2  25  13  72   2]\n",
      " [ 64  83  16  86  85  24  10  74  48  99]\n",
      " [ 83   1  87  21  42  59  26  65  73  41]] 1 100\n"
     ]
    }
   ],
   "source": [
    "import numpy as np\n",
    "vector= np.random.randint(1,101,100).reshape(10,10)\n",
    "print(vector,vector.min(),vector.max())"
   ]
  },
  {
   "cell_type": "code",
   "execution_count": null,
   "id": "d9a040e6-4f12-44a2-bc34-97a66dc28651",
   "metadata": {},
   "outputs": [],
   "source": []
  }
 ],
 "metadata": {
  "kernelspec": {
   "display_name": "Python 3",
   "language": "python",
   "name": "python3"
  },
  "language_info": {
   "codemirror_mode": {
    "name": "ipython",
    "version": 3
   },
   "file_extension": ".py",
   "mimetype": "text/x-python",
   "name": "python",
   "nbconvert_exporter": "python",
   "pygments_lexer": "ipython3",
   "version": "3.7.8"
  }
 },
 "nbformat": 4,
 "nbformat_minor": 5
}
