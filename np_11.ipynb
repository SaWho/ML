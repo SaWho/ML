{
 "cells": [
  {
   "cell_type": "code",
   "execution_count": 2,
   "id": "11cb508e-36bf-41a6-b3ac-e14b5a47449e",
   "metadata": {},
   "outputs": [
    {
     "name": "stdout",
     "output_type": "stream",
     "text": [
      "[[74 14 27 58 35 60 77 36 82 25]\n",
      " [79 54 75  8 63 69 29 57 68 86]\n",
      " [39 89 12 91 98 31 43 63 10  4]\n",
      " [53  8 26 26 92 39  7  2  9 69]\n",
      " [51 20 94 34 48 58 93 24 54 50]\n",
      " [98 40 21 74 38 43 38 43 12  6]\n",
      " [52 70 56 71 27 70 99 38 19 63]\n",
      " [57 37 63 50 69 21 48 90 33 39]\n",
      " [84 57 31 78 30 88  1 33 49 89]\n",
      " [89 99 31 88  6 89 40 92 36 66]] 1 99\n"
     ]
    }
   ],
   "source": [
    "import numpy as np\n",
    "vector= np.random.randint(1,101,100).reshape(10,10)\n",
    "print(vector,vector.min(),vector.max())"
   ]
  },
  {
   "cell_type": "code",
   "execution_count": null,
   "id": "99eccfa2-0072-42df-909b-dbf8c4132002",
   "metadata": {},
   "outputs": [],
   "source": []
  },
  {
   "cell_type": "code",
   "execution_count": 1,
   "id": "cd7dbfc4-350e-47e9-b2d6-43775909149f",
   "metadata": {},
   "outputs": [
    {
     "name": "stdout",
     "output_type": "stream",
     "text": [
      "[[[ 4  2 41]\n",
      "  [27 54 25]\n",
      "  [11 55 31]]\n",
      "\n",
      " [[83 77 76]\n",
      "  [29 57 73]\n",
      "  [ 0 46 78]]\n",
      "\n",
      " [[41 83 87]\n",
      "  [70 62 27]\n",
      "  [71 62 75]]]\n"
     ]
    }
   ],
   "source": [
    "import numpy as np\n",
    "vector= np.random.randint(0,90,27).reshape(3,3,3)\n",
    "print(vector)"
   ]
  },
  {
   "cell_type": "code",
   "execution_count": null,
   "id": "87845ddb-c01f-4f58-9e17-569b569c83ea",
   "metadata": {},
   "outputs": [],
   "source": []
  },
  {
   "cell_type": "code",
   "execution_count": 2,
   "id": "7f9ee131-d4e1-4766-8f3b-511c9e4b159e",
   "metadata": {},
   "outputs": [
    {
     "name": "stdout",
     "output_type": "stream",
     "text": [
      "[[1. 0. 0.]\n",
      " [0. 1. 0.]\n",
      " [0. 0. 1.]]\n"
     ]
    }
   ],
   "source": [
    "import numpy as np\n",
    "vector= np.identity(3)\n",
    "print(vector)\n"
   ]
  },
  {
   "cell_type": "code",
   "execution_count": null,
   "id": "dbbf847e-5454-4673-8fde-2b92e892afdd",
   "metadata": {},
   "outputs": [],
   "source": []
  }
 ],
 "metadata": {
  "kernelspec": {
   "display_name": "Python 3",
   "language": "python",
   "name": "python3"
  },
  "language_info": {
   "codemirror_mode": {
    "name": "ipython",
    "version": 3
   },
   "file_extension": ".py",
   "mimetype": "text/x-python",
   "name": "python",
   "nbconvert_exporter": "python",
   "pygments_lexer": "ipython3",
   "version": "3.7.8"
  }
 },
 "nbformat": 4,
 "nbformat_minor": 5
}
